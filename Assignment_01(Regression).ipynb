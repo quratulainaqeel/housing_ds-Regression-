{
  "nbformat": 4,
  "nbformat_minor": 0,
  "metadata": {
    "colab": {
      "provenance": []
    },
    "kernelspec": {
      "name": "python3",
      "display_name": "Python 3"
    },
    "language_info": {
      "name": "python"
    }
  },
  "cells": [
    {
      "cell_type": "code",
      "source": [
        "import pandas as pd\n",
        "import numpy as np\n",
        "from sklearn.model_selection import train_test_split\n",
        "from sklearn.preprocessing import StandardScaler\n",
        "import tensorflow as tf\n",
        "from tensorflow.keras.models import Sequential\n",
        "from tensorflow.keras.layers import Dense\n",
        "\n",
        "\n",
        "# Dataset URL\n",
        "url = \"https://archive.ics.uci.edu/ml/machine-learning-databases/housing/housing.data\""
      ],
      "metadata": {
        "id": "YvB67lnxoWgg"
      },
      "execution_count": 90,
      "outputs": []
    },
    {
      "cell_type": "code",
      "source": [
        "# Define column names for the dataset\n",
        "column_names = ['CRIM', 'ZN', 'INDUS', 'CHAS', 'NOX', 'RM', 'AGE', 'DIS', 'RAD', 'TAX', 'PTRATIO', 'B', 'LSTAT', 'MEDV']\n",
        "\n",
        "# Download and load the data\n",
        "data = pd.read_csv(url, header=None, delim_whitespace=True, names=column_names)\n",
        "print(data.shape) # show no.of rows & col\n",
        "\n",
        "# Split the data into Predictors (X) and Outcomes (Y)\n",
        "X = data.iloc[:, 0:13]\n",
        "y = data.iloc[:, 13]\n",
        "\n",
        "# Split the data into training and testing sets\n",
        "X_train, X_test, y_train, y_test = train_test_split(X, y, test_size=0.2,random_state=42)"
      ],
      "metadata": {
        "colab": {
          "base_uri": "https://localhost:8080/"
        },
        "id": "VFLXAkjhVFZB",
        "outputId": "44305842-114d-40bf-bbf4-092b9a30cb72"
      },
      "execution_count": 91,
      "outputs": [
        {
          "output_type": "stream",
          "name": "stdout",
          "text": [
            "(506, 14)\n"
          ]
        }
      ]
    },
    {
      "cell_type": "code",
      "source": [
        "\n",
        "# Build the ANN model\n",
        "model = Sequential()\n",
        "\n",
        "# Input layer\n",
        "model.add(Dense(64, activation='relu', input_shape=(X_train.shape[1],)))\n",
        "\n",
        "# Hidden layer\n",
        "model.add(Dense(64, activation='relu'))\n",
        "\n",
        "# Output layer\n",
        "model.add(Dense(1, activation='linear'))"
      ],
      "metadata": {
        "id": "W6ylG9p8mAam"
      },
      "execution_count": 92,
      "outputs": []
    },
    {
      "cell_type": "code",
      "source": [
        "from keras.utils import plot_model\n",
        "\n",
        "plot_model(model, to_file='model_plot.png', show_shapes=True, show_layer_names=True)"
      ],
      "metadata": {
        "id": "sCmV-oevvsp3"
      },
      "execution_count": null,
      "outputs": []
    },
    {
      "cell_type": "code",
      "source": [
        "model.compile(optimizer='adam', loss='mean_squared_error')\n",
        "model.summary()"
      ],
      "metadata": {
        "id": "JVh0h6RwwZCQ"
      },
      "execution_count": null,
      "outputs": []
    },
    {
      "cell_type": "code",
      "source": [
        "# Train the model\n",
        "model.fit(X_train, y_train, epochs=150, batch_size=10, verbose=1)"
      ],
      "metadata": {
        "id": "rrsTG3oD0Wzb"
      },
      "execution_count": null,
      "outputs": []
    },
    {
      "cell_type": "code",
      "source": [
        "# Evaluate the model on the test set\n",
        "loss = model.evaluate(X_test, y_test, verbose=0)\n",
        "print(\"Loss\", loss)"
      ],
      "metadata": {
        "id": "jFAOrbBU95IL"
      },
      "execution_count": null,
      "outputs": []
    },
    {
      "cell_type": "code",
      "source": [
        "# Predict using the test set\n",
        "predictions = model.predict(X_test)\n",
        "\n",
        "# Compare predictions with actual values\n",
        "for i in range(len(X_test)):\n",
        "    print(\"Predicted:\", predictions[i][0], \"\\tActual:\", y_test.iloc[i])"
      ],
      "metadata": {
        "id": "RKHx-4itClmR"
      },
      "execution_count": null,
      "outputs": []
    }
  ]
}